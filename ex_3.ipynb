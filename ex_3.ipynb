{
  "nbformat": 4,
  "nbformat_minor": 0,
  "metadata": {
    "colab": {
      "private_outputs": true,
      "provenance": [],
      "collapsed_sections": [],
      "authorship_tag": "ABX9TyN3ryJI+p+C7X/21QyRjLGk",
      "include_colab_link": true
    },
    "kernelspec": {
      "name": "python3",
      "display_name": "Python 3"
    },
    "language_info": {
      "name": "python"
    }
  },
  "cells": [
    {
      "cell_type": "markdown",
      "metadata": {
        "id": "view-in-github",
        "colab_type": "text"
      },
      "source": [
        "<a href=\"https://colab.research.google.com/github/TheHackerLlama/RIIAA_2022/blob/main/ex_3.ipynb\" target=\"_parent\"><img src=\"https://colab.research.google.com/assets/colab-badge.svg\" alt=\"Open In Colab\"/></a>"
      ]
    },
    {
      "cell_type": "code",
      "source": [
        "%%capture\n",
        "!pip install gradio"
      ],
      "metadata": {
        "id": "xu5nzMGeG3rQ"
      },
      "execution_count": null,
      "outputs": []
    },
    {
      "cell_type": "markdown",
      "source": [
        "## Blocks"
      ],
      "metadata": {
        "id": "4r59_ZRIG1KR"
      }
    },
    {
      "cell_type": "code",
      "execution_count": null,
      "metadata": {
        "id": "f7NZpMzmTyYQ"
      },
      "outputs": [],
      "source": [
        "import gradio as gr\n",
        "\n",
        "def flip_text(x):\n",
        "    return x[::-1]\n",
        "\n",
        "demo = gr.Blocks()\n",
        "\n",
        "with demo:\n",
        "    gr.Markdown(\"\"\"\n",
        "    # Flip Text!\n",
        "    Start typing below to see the output.\n",
        "    \"\"\"\n",
        "    )\n",
        "\n",
        "    input = gr.Textbox(placeholder=\"Flip this text\")\n",
        "    output = gr.Textbox()\n",
        "\n",
        "    input.change(fn=flip_text, inputs=input, outputs=output)\n",
        "\n",
        "demo.launch()"
      ]
    },
    {
      "cell_type": "markdown",
      "source": [
        "## Layouts"
      ],
      "metadata": {
        "id": "5vhi5rZOHF_h"
      }
    },
    {
      "cell_type": "code",
      "source": [
        "import numpy as np\n",
        "import gradio as gr\n",
        "\n",
        "demo = gr.Blocks()\n",
        "\n",
        "\n",
        "def flip_text(x):\n",
        "    return x[::-1]\n",
        "\n",
        "def flip_image(x):\n",
        "    return np.fliplr(x)\n",
        "\n",
        "with demo:\n",
        "    gr.Markdown(\"Flip text or image files using this demo.\")\n",
        "    with gr.Tabs():\n",
        "        with gr.TabItem(\"Flip Text\"):\n",
        "            with gr.Row():\n",
        "                text_input = gr.Textbox()\n",
        "                text_output = gr.Textbox()\n",
        "            text_button = gr.Button(\"Flip\")\n",
        "        with gr.TabItem(\"Flip Image\"):\n",
        "            with gr.Row():\n",
        "                image_input = gr.Image()\n",
        "                image_output = gr.Image()\n",
        "            image_button = gr.Button(\"Flip\")\n",
        "\n",
        "    text_button.click(flip_text, inputs=text_input, outputs=text_output)\n",
        "    image_button.click(flip_image, inputs=image_input, outputs=image_output)\n",
        "\n",
        "demo.launch()"
      ],
      "metadata": {
        "id": "XsW2nYC3G9CU"
      },
      "execution_count": null,
      "outputs": []
    },
    {
      "cell_type": "markdown",
      "source": [
        "## Estados"
      ],
      "metadata": {
        "id": "zVtgkRwUHSMB"
      }
    },
    {
      "cell_type": "code",
      "source": [
        "import gradio as gr\n",
        "\n",
        "api = gr.Interface.load(\"huggingface/EleutherAI/gpt-j-6B\")\n",
        "\n",
        "\n",
        "def complete_with_gpt(text):\n",
        "    # Use the last 50 characters of the text as context\n",
        "    return text[:-50] + api(text[-50:])\n",
        "\n",
        "\n",
        "with gr.Blocks() as demo:\n",
        "    textbox = gr.Textbox(placeholder=\"Type here and press enter...\", lines=4)\n",
        "    btn = gr.Button(\"Generate\")\n",
        "\n",
        "    btn.click(complete_with_gpt, textbox, textbox)\n",
        "\n",
        "demo.launch()"
      ],
      "metadata": {
        "id": "_eujqCx1HFEc"
      },
      "execution_count": null,
      "outputs": []
    },
    {
      "cell_type": "code",
      "source": [],
      "metadata": {
        "id": "9NkAeKTdHVWK"
      },
      "execution_count": null,
      "outputs": []
    }
  ]
}