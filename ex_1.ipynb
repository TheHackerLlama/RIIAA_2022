{
  "nbformat": 4,
  "nbformat_minor": 0,
  "metadata": {
    "colab": {
      "private_outputs": true,
      "provenance": [],
      "collapsed_sections": [],
      "authorship_tag": "ABX9TyMCjcUlgSJT3a0QqMAKksAw",
      "include_colab_link": true
    },
    "kernelspec": {
      "name": "python3",
      "display_name": "Python 3"
    },
    "language_info": {
      "name": "python"
    }
  },
  "cells": [
    {
      "cell_type": "markdown",
      "metadata": {
        "id": "view-in-github",
        "colab_type": "text"
      },
      "source": [
        "<a href=\"https://colab.research.google.com/github/TheHackerLlama/RIIAA_2022/blob/main/ex_1.ipynb\" target=\"_parent\"><img src=\"https://colab.research.google.com/assets/colab-badge.svg\" alt=\"Open In Colab\"/></a>"
      ]
    },
    {
      "cell_type": "markdown",
      "source": [
        "# Instalacion de bibliotecas"
      ],
      "metadata": {
        "id": "sJBVnRai4tTL"
      }
    },
    {
      "cell_type": "code",
      "execution_count": null,
      "metadata": {
        "id": "yp1gUYy3mdc4"
      },
      "outputs": [],
      "source": [
        "%%capture\n",
        "!pip install gradio transformers sentencepiece"
      ]
    },
    {
      "cell_type": "markdown",
      "source": [
        "## Demo 1. Hola Mundo"
      ],
      "metadata": {
        "id": "lfIFfxwg4vkS"
      }
    },
    {
      "cell_type": "code",
      "source": [
        "import gradio as gr\n",
        "\n",
        "def greet(name):\n",
        "    return \"Hola \" + name + \"!\"\n",
        "\n",
        "demo = gr.Interface(\n",
        "    fn=greet,\n",
        "    inputs=\"text\",\n",
        "    outputs=\"text\")\n",
        "\n",
        "demo.launch()   "
      ],
      "metadata": {
        "id": "jf0BDOwkmjON"
      },
      "execution_count": null,
      "outputs": []
    },
    {
      "cell_type": "markdown",
      "source": [
        "# Traduccion Ingles Espanol"
      ],
      "metadata": {
        "id": "93xXwPVU4xVy"
      }
    },
    {
      "cell_type": "code",
      "source": [
        "import gradio as gr\n",
        "\n",
        "from transformers import pipeline\n",
        "\n",
        "pipe = pipeline(\"translation\", model=\"Helsinki-NLP/opus-mt-en-es\")"
      ],
      "metadata": {
        "id": "emR-JWiJmllt"
      },
      "execution_count": null,
      "outputs": []
    },
    {
      "cell_type": "code",
      "source": [
        "pipe(\"Hello. How are you doing?\")"
      ],
      "metadata": {
        "id": "E8yCH8ayvJcZ"
      },
      "execution_count": null,
      "outputs": []
    },
    {
      "cell_type": "code",
      "source": [
        "pipe(\"Hello. How are you doing?\")[0][\"translation_text\"]"
      ],
      "metadata": {
        "id": "dekpNG4OvIWz"
      },
      "execution_count": null,
      "outputs": []
    },
    {
      "cell_type": "code",
      "source": [
        "def predict(text):\n",
        "  return pipe(text)[0][\"translation_text\"]\n",
        "\n",
        "demo = gr.Interface(\n",
        "  fn=predict, \n",
        "  inputs='text',\n",
        "  outputs='text'\n",
        ")\n",
        "\n",
        "demo.launch()"
      ],
      "metadata": {
        "id": "Iclve1msvreB"
      },
      "execution_count": null,
      "outputs": []
    },
    {
      "cell_type": "markdown",
      "source": [
        "## Generacion de texto en Espanol"
      ],
      "metadata": {
        "id": "Hb1jXWLa40aK"
      }
    },
    {
      "cell_type": "code",
      "source": [
        "model = pipeline(\"text-generation\", model=\"datificate/gpt2-small-spanish\")\n",
        "\n",
        "def predict(prompt):\n",
        "    completion = model(prompt)[0][\"generated_text\"]\n",
        "    return completion\n",
        "\n",
        "\n",
        "demo = gr.Interface(\n",
        "  fn=predict, \n",
        "  inputs=[gr.Textbox(label=\"text\", lines=3)],\n",
        "  outputs='text',\n",
        ")\n",
        "\n",
        "demo.launch()"
      ],
      "metadata": {
        "id": "RgJNBrZJwoGG"
      },
      "execution_count": null,
      "outputs": []
    },
    {
      "cell_type": "code",
      "source": [
        "title = \"Interactive demo: Helsinki-NLP English to Spanish Translation\"\n",
        "\n",
        "demo = gr.Interface(\n",
        "  fn=predict, \n",
        "  inputs=[gr.Textbox(label=\"text\", lines=3)],\n",
        "  outputs='text',\n",
        "  title=title,\n",
        "  examples=[[\"Hello! My name is Omar\"], [\"I like this workshop\"]]\n",
        ")\n",
        "\n",
        "demo.launch()"
      ],
      "metadata": {
        "id": "6ckd4Y9lv0uv"
      },
      "execution_count": null,
      "outputs": []
    },
    {
      "cell_type": "markdown",
      "source": [
        "## AnimeGAN"
      ],
      "metadata": {
        "id": "K6_po2MZ45iq"
      }
    },
    {
      "cell_type": "code",
      "source": [
        "from PIL import Image\n",
        "import torch\n",
        "\n",
        "model2 = torch.hub.load(\n",
        "    \"AK391/animegan2-pytorch:main\",\n",
        "    \"generator\",\n",
        "    pretrained=True,\n",
        "    progress=False\n",
        ")\n",
        "face2paint = torch.hub.load(\n",
        "    'AK391/animegan2-pytorch:main', 'face2paint', \n",
        "    size=512,side_by_side=False\n",
        ")\n",
        "\n",
        "def inference(img):\n",
        "    out = face2paint(model2, img)\n",
        "    return out\n",
        "\n",
        "title = \"AnimeGANv2\"\n",
        "description = \"Gradio Demo for AnimeGanv2 Face Portrait. To use it, simply upload your image, or click one of the examples to load them. Read more at the links below. Please use a cropped portrait picture for best results similar to the examples below.\"\n",
        "article = \"Github Repo Pytorch \"\n",
        "examples=[['https://upload.wikimedia.org/wikipedia/commons/thumb/a/a8/Bill_Gates_2017_%28cropped%29.jpg/220px-Bill_Gates_2017_%28cropped%29.jpg']]\n",
        "\n",
        "demo = gr.Interface(\n",
        "    fn=inference, \n",
        "    inputs=[gr.inputs.Image(type=\"pil\")], \n",
        "    outputs=gr.outputs.Image(type=\"pil\"),\n",
        "    title=title,\n",
        "    description=description,\n",
        "    article=article,\n",
        "    examples=examples)\n",
        "\n",
        "demo.launch()"
      ],
      "metadata": {
        "id": "k19ZvNXlv6zm"
      },
      "execution_count": null,
      "outputs": []
    },
    {
      "cell_type": "code",
      "source": [
        "\n"
      ],
      "metadata": {
        "id": "ZA-WcQ6XAWep"
      },
      "execution_count": null,
      "outputs": []
    }
  ]
}